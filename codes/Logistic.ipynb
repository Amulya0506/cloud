{
 "cells": [
  {
   "cell_type": "code",
   "execution_count": 6,
   "metadata": {},
   "outputs": [
    {
     "name": "stdout",
     "output_type": "stream",
     "text": [
      "   sex  cp  trestbps  chol  fbs  restecg  thalach  exang  oldpeak  slope  ca  \\\n",
      "0    1   3       145   233    1        0      150      0      2.3      0   0   \n",
      "1    1   2       130   250    0        1      187      0      3.5      0   0   \n",
      "2    0   1       130   204    0        0      172      0      1.4      2   0   \n",
      "3    1   1       120   236    0        1      178      0      0.8      2   0   \n",
      "4    0   0       120   354    0        1      163      1      0.6      2   0   \n",
      "\n",
      "   thal  \n",
      "0     1  \n",
      "1     2  \n",
      "2     2  \n",
      "3     2  \n",
      "4     2  \n",
      "(303, 12)\n",
      "(303, 1)\n",
      "(91, 12)\n",
      "Accuracy of logistic regression classifier on training set: 0.86\n",
      "Accuracy of logistic regression classifier on testing set: 0.84\n"
     ]
    },
    {
     "name": "stderr",
     "output_type": "stream",
     "text": [
      "C:\\Users\\Amuly\\Anaconda3\\lib\\site-packages\\sklearn\\utils\\validation.py:578: DataConversionWarning: A column-vector y was passed when a 1d array was expected. Please change the shape of y to (n_samples, ), for example using ravel().\n",
      "  y = column_or_1d(y, warn=True)\n"
     ]
    }
   ],
   "source": [
    "import numpy as np\n",
    "import pandas as pd\n",
    "data = pd.read_csv(\"heart.csv\")\n",
    "data.head()\n",
    "tar = data[['target']]\n",
    "tar.head()\n",
    "x_features = data.iloc[:,1:13]\n",
    "print(x_features.head())\n",
    "y_target = tar\n",
    "y_target.head()\n",
    "print(x_features.shape)\n",
    "print(y_target.shape)\n",
    "from sklearn.linear_model import LogisticRegression\n",
    "logreg = LogisticRegression()\n",
    "logreg.fit(x_features, y_target)\n",
    "import matplotlib.pyplot as plt\n",
    "from sklearn.model_selection import train_test_split\n",
    "x_train, x_test, y_train, y_test = train_test_split(x_features, y_target, test_size = 0.3, random_state = 0)\n",
    "print(x_test.shape)\n",
    "logreg.predict(x_test)\n",
    "print('Accuracy of logistic regression classifier on training set: {:.2f}'.format(logreg.score(x_train, y_train)))\n",
    "print('Accuracy of logistic regression classifier on testing set: {:.2f}'.format(logreg.score(x_test, y_test)))"
   ]
  },
  {
   "cell_type": "code",
   "execution_count": null,
   "metadata": {},
   "outputs": [],
   "source": []
  }
 ],
 "metadata": {
  "kernelspec": {
   "display_name": "Python 3",
   "language": "python",
   "name": "python3"
  },
  "language_info": {
   "codemirror_mode": {
    "name": "ipython",
    "version": 3
   },
   "file_extension": ".py",
   "mimetype": "text/x-python",
   "name": "python",
   "nbconvert_exporter": "python",
   "pygments_lexer": "ipython3",
   "version": "3.6.5"
  }
 },
 "nbformat": 4,
 "nbformat_minor": 2
}
