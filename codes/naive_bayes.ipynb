{
 "cells": [
  {
   "cell_type": "code",
   "execution_count": 2,
   "metadata": {},
   "outputs": [
    {
     "name": "stdout",
     "output_type": "stream",
     "text": [
      "   sex  cp  trestbps  chol  fbs  restecg  thalach  exang  oldpeak  slope  ca  \\\n",
      "0    1   3       145   233    1        0      150      0      2.3      0   0   \n",
      "1    1   2       130   250    0        1      187      0      3.5      0   0   \n",
      "2    0   1       130   204    0        0      172      0      1.4      2   0   \n",
      "3    1   1       120   236    0        1      178      0      0.8      2   0   \n",
      "4    0   0       120   354    0        1      163      1      0.6      2   0   \n",
      "\n",
      "   thal  \n",
      "0     1  \n",
      "1     2  \n",
      "2     2  \n",
      "3     2  \n",
      "4     2  \n",
      "[0 1 1 0 0 1 0 0 0 0 1 1 0 1 1 0 0 1 0 1 1 0 0 0 1 1 0 1 1 1 1 0 1 1 1 0 0\n",
      " 1 0 0 1 1 0 0 1 1 1 1 0 1 1 1 1 1 1 0 1 1 1 1 1 1 1 1 1 1 1 0 1 1 1 1 1 0\n",
      " 0 1]\n"
     ]
    },
    {
     "name": "stderr",
     "output_type": "stream",
     "text": [
      "C:\\Users\\Amuly\\Anaconda3\\lib\\site-packages\\sklearn\\utils\\validation.py:578: DataConversionWarning: A column-vector y was passed when a 1d array was expected. Please change the shape of y to (n_samples, ), for example using ravel().\n",
      "  y = column_or_1d(y, warn=True)\n"
     ]
    },
    {
     "data": {
      "text/plain": [
       "0.8157894736842105"
      ]
     },
     "execution_count": 2,
     "metadata": {},
     "output_type": "execute_result"
    }
   ],
   "source": [
    "import numpy as np\n",
    "import pandas as pd\n",
    "import csv\n",
    "data = pd.read_csv(\"heart.csv\")\n",
    "data.head()\n",
    "from sklearn.naive_bayes import GaussianNB\n",
    "gnb = GaussianNB()\n",
    "\n",
    "x_features = data.iloc[:,1:13]\n",
    "print(x_features.head())\n",
    "\n",
    "tar = data[['target']]\n",
    "tar.head()\n",
    "y_target = tar\n",
    "y_target.head()\n",
    "from sklearn.model_selection import train_test_split\n",
    "x_train, x_test, y_train, y_test = train_test_split(x_features, y_target, test_size = 0.25, random_state = 0)\n",
    "y_pred = gnb.fit(x_train, y_train).predict(x_test)\n",
    "print(y_pred)\n",
    "gnb.score(x_train, y_train)\n",
    "gnb.score(x_test, y_test)\n"
   ]
  },
  {
   "cell_type": "code",
   "execution_count": null,
   "metadata": {},
   "outputs": [],
   "source": []
  }
 ],
 "metadata": {
  "kernelspec": {
   "display_name": "Python 3",
   "language": "python",
   "name": "python3"
  },
  "language_info": {
   "codemirror_mode": {
    "name": "ipython",
    "version": 3
   },
   "file_extension": ".py",
   "mimetype": "text/x-python",
   "name": "python",
   "nbconvert_exporter": "python",
   "pygments_lexer": "ipython3",
   "version": "3.6.5"
  }
 },
 "nbformat": 4,
 "nbformat_minor": 2
}
